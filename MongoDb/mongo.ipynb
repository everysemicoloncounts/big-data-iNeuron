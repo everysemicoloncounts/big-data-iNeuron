{
 "cells": [
  {
   "cell_type": "code",
   "execution_count": 1,
   "metadata": {},
   "outputs": [
    {
     "name": "stdout",
     "output_type": "stream",
     "text": [
      "Collecting pymongo\n",
      "  Downloading pymongo-4.3.3-cp310-cp310-win_amd64.whl (382 kB)\n",
      "Collecting dnspython<3.0.0,>=1.16.0\n",
      "  Downloading dnspython-2.3.0-py3-none-any.whl (283 kB)\n",
      "Installing collected packages: dnspython, pymongo\n",
      "Successfully installed dnspython-2.3.0 pymongo-4.3.3\n",
      "Note: you may need to restart the kernel to use updated packages.\n"
     ]
    },
    {
     "name": "stderr",
     "output_type": "stream",
     "text": [
      "WARNING: Ignoring invalid distribution -p (c:\\python310\\lib\\site-packages)\n",
      "WARNING: Ignoring invalid distribution -ip (c:\\python310\\lib\\site-packages)\n",
      "WARNING: Ignoring invalid distribution - (c:\\python310\\lib\\site-packages)\n",
      "WARNING: Ignoring invalid distribution -p (c:\\python310\\lib\\site-packages)\n",
      "WARNING: Ignoring invalid distribution -ip (c:\\python310\\lib\\site-packages)\n",
      "WARNING: Ignoring invalid distribution - (c:\\python310\\lib\\site-packages)\n",
      "WARNING: Ignoring invalid distribution -p (c:\\python310\\lib\\site-packages)\n",
      "WARNING: Ignoring invalid distribution -ip (c:\\python310\\lib\\site-packages)\n",
      "WARNING: Ignoring invalid distribution - (c:\\python310\\lib\\site-packages)\n",
      "WARNING: Ignoring invalid distribution -p (c:\\python310\\lib\\site-packages)\n",
      "WARNING: Ignoring invalid distribution -ip (c:\\python310\\lib\\site-packages)\n",
      "WARNING: Ignoring invalid distribution - (c:\\python310\\lib\\site-packages)\n",
      "WARNING: Ignoring invalid distribution -p (c:\\python310\\lib\\site-packages)\n",
      "WARNING: Ignoring invalid distribution -ip (c:\\python310\\lib\\site-packages)\n",
      "WARNING: Ignoring invalid distribution - (c:\\python310\\lib\\site-packages)\n",
      "WARNING: Ignoring invalid distribution -p (c:\\python310\\lib\\site-packages)\n",
      "WARNING: Ignoring invalid distribution -ip (c:\\python310\\lib\\site-packages)\n",
      "WARNING: Ignoring invalid distribution - (c:\\python310\\lib\\site-packages)\n",
      "WARNING: Ignoring invalid distribution -p (c:\\python310\\lib\\site-packages)\n",
      "WARNING: Ignoring invalid distribution -ip (c:\\python310\\lib\\site-packages)\n",
      "WARNING: Ignoring invalid distribution - (c:\\python310\\lib\\site-packages)\n",
      "WARNING: Ignoring invalid distribution -p (c:\\python310\\lib\\site-packages)\n",
      "WARNING: Ignoring invalid distribution -ip (c:\\python310\\lib\\site-packages)\n",
      "WARNING: Ignoring invalid distribution - (c:\\python310\\lib\\site-packages)\n",
      "WARNING: You are using pip version 21.2.4; however, version 23.1.2 is available.\n",
      "You should consider upgrading via the 'c:\\Python310\\python.exe -m pip install --upgrade pip' command.\n"
     ]
    }
   ],
   "source": [
    "pip install pymongo"
   ]
  },
  {
   "cell_type": "code",
   "execution_count": 2,
   "metadata": {},
   "outputs": [
    {
     "name": "stdout",
     "output_type": "stream",
     "text": [
      "MongoClient(host=['localhost:27017'], document_class=dict, tz_aware=False, connect=True)\n"
     ]
    }
   ],
   "source": [
    "import pymongo\n",
    "client = pymongo.MongoClient(\"mongodb://localhost:27017/\")\n",
    "print(client)"
   ]
  },
  {
   "cell_type": "code",
   "execution_count": 3,
   "metadata": {},
   "outputs": [],
   "source": [
    "DEFAULT_CONNECTION_URL = \"mongodb://localhost:27017/\"\n",
    "DB_NAME = \"iNEURON\"\n",
    "\n",
    "client = pymongo.MongoClient(DEFAULT_CONNECTION_URL)\n",
    "\n",
    "#creating a database\n",
    "database = client[DB_NAME]"
   ]
  },
  {
   "cell_type": "code",
   "execution_count": 4,
   "metadata": {},
   "outputs": [],
   "source": [
    "COLLECTION_NAME = 'movies'\n",
    "collection = database[COLLECTION_NAME]"
   ]
  },
  {
   "cell_type": "code",
   "execution_count": 6,
   "metadata": {},
   "outputs": [
    {
     "name": "stdout",
     "output_type": "stream",
     "text": [
      "<pymongo.results.InsertManyResult object at 0x000001546A72EB30>\n"
     ]
    }
   ],
   "source": [
    "list_of_movies = [\n",
    "   {\n",
    "      'title': 'Titanic',\n",
    "      'year': 1997,\n",
    "      'genres': [ 'Drama', 'Romance' ],\n",
    "      'rated': 'PG-13',\n",
    "      'languages': [ 'English', 'French', 'German', 'Swedish', 'Italian', 'Russian' ],\n",
    "      'awards': {\n",
    "         'wins': 127,\n",
    "         'nominations': 63,\n",
    "         'text': 'Won 11 Oscars. Another 116 wins & 63 nominations.'\n",
    "      },\n",
    "      'cast': [ 'Leonardo DiCaprio', 'Kate Winslet', 'Billy Zane', 'Kathy Bates' ],\n",
    "      'directors': [ 'James Cameron' ]\n",
    "   },\n",
    "   {\n",
    "      'title': 'The Dark Knight',\n",
    "      'year': 2008,\n",
    "      'genres': [ 'Action', 'Crime', 'Drama' ],\n",
    "      'rated': 'PG-13',\n",
    "      'languages': [ 'English', 'Mandarin' ],\n",
    "      'awards': {\n",
    "         'wins': 144,\n",
    "         'nominations': 106,\n",
    "         'text': 'Won 2 Oscars. Another 142 wins & 106 nominations.'\n",
    "      },\n",
    "      'cast': [ 'Christian Bale', 'Heath Ledger', 'Aaron Eckhart', 'Michael Caine' ],\n",
    "      'directors': [ 'Christopher Nolan' ]\n",
    "   },\n",
    "   {\n",
    "      'title': 'Spirited Away',\n",
    "      'year': 2001,\n",
    "      'genres': [ 'Animation', 'Adventure', 'Family' ],\n",
    "      'rated': 'PG',\n",
    "      'languages': [ 'Japanese' ],\n",
    "      'awards': {\n",
    "         'wins': 52,\n",
    "         'nominations': 22,\n",
    "         'text': 'Won 1 Oscar. Another 51 wins & 22 nominations.'\n",
    "      },\n",
    "      'cast': [ 'Rumi Hiiragi', 'Miyu Irino', 'Mari Natsuki', 'Takashi Naitè' ],\n",
    "      'directors': [ 'Hayao Miyazaki' ]\n",
    "   },\n",
    "   {\n",
    "      'title': 'Casablanca',\n",
    "      'genres': [ 'Drama', 'Romance', 'War' ],\n",
    "      'rated': 'PG',\n",
    "      'cast': [ 'Humphrey Bogart', 'Ingrid Bergman', 'Paul Henreid', 'Claude Rains' ],\n",
    "      'languages': [ 'English', 'French', 'German', 'Italian' ],\n",
    "      'directors': [ 'Michael Curtiz' ],\n",
    "      'awards': {\n",
    "         'wins': 9,\n",
    "         'nominations': 6,\n",
    "         'text': 'Won 3 Oscars. Another 6 wins & 6 nominations.'\n",
    "      },\n",
    "      'lastupdated': '2015-09-04 00:22:54.600000000',\n",
    "      'year': 1942\n",
    "   }\n",
    "]\n",
    "\n",
    "rec = collection.insert_many(list_of_movies)\n",
    "print(rec)"
   ]
  },
  {
   "cell_type": "code",
   "execution_count": null,
   "metadata": {},
   "outputs": [],
   "source": []
  }
 ],
 "metadata": {
  "kernelspec": {
   "display_name": "Python 3",
   "language": "python",
   "name": "python3"
  },
  "language_info": {
   "codemirror_mode": {
    "name": "ipython",
    "version": 3
   },
   "file_extension": ".py",
   "mimetype": "text/x-python",
   "name": "python",
   "nbconvert_exporter": "python",
   "pygments_lexer": "ipython3",
   "version": "3.10.2"
  },
  "orig_nbformat": 4
 },
 "nbformat": 4,
 "nbformat_minor": 2
}
