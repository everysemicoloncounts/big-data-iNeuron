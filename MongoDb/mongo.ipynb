{
 "cells": [
  {
   "cell_type": "code",
   "execution_count": 19,
   "metadata": {},
   "outputs": [
    {
     "name": "stdout",
     "output_type": "stream",
     "text": [
      "Requirement already satisfied: pymongo in c:\\python310\\lib\\site-packages (4.3.3)\n",
      "Requirement already satisfied: dnspython<3.0.0,>=1.16.0 in c:\\python310\\lib\\site-packages (from pymongo) (2.3.0)\n",
      "Note: you may need to restart the kernel to use updated packages.\n"
     ]
    },
    {
     "name": "stderr",
     "output_type": "stream",
     "text": [
      "WARNING: Ignoring invalid distribution -p (c:\\python310\\lib\\site-packages)\n",
      "WARNING: Ignoring invalid distribution -ip (c:\\python310\\lib\\site-packages)\n",
      "WARNING: Ignoring invalid distribution - (c:\\python310\\lib\\site-packages)\n",
      "WARNING: Ignoring invalid distribution -p (c:\\python310\\lib\\site-packages)\n",
      "WARNING: Ignoring invalid distribution -ip (c:\\python310\\lib\\site-packages)\n",
      "WARNING: Ignoring invalid distribution - (c:\\python310\\lib\\site-packages)\n",
      "WARNING: Ignoring invalid distribution -p (c:\\python310\\lib\\site-packages)\n",
      "WARNING: Ignoring invalid distribution -ip (c:\\python310\\lib\\site-packages)\n",
      "WARNING: Ignoring invalid distribution - (c:\\python310\\lib\\site-packages)\n",
      "WARNING: Ignoring invalid distribution -p (c:\\python310\\lib\\site-packages)\n",
      "WARNING: Ignoring invalid distribution -ip (c:\\python310\\lib\\site-packages)\n",
      "WARNING: Ignoring invalid distribution - (c:\\python310\\lib\\site-packages)\n",
      "WARNING: Ignoring invalid distribution -p (c:\\python310\\lib\\site-packages)\n",
      "WARNING: Ignoring invalid distribution -ip (c:\\python310\\lib\\site-packages)\n",
      "WARNING: Ignoring invalid distribution - (c:\\python310\\lib\\site-packages)\n",
      "WARNING: Ignoring invalid distribution -p (c:\\python310\\lib\\site-packages)\n",
      "WARNING: Ignoring invalid distribution -ip (c:\\python310\\lib\\site-packages)\n",
      "WARNING: Ignoring invalid distribution - (c:\\python310\\lib\\site-packages)\n",
      "WARNING: You are using pip version 21.2.4; however, version 23.1.2 is available.\n",
      "You should consider upgrading via the 'c:\\Python310\\python.exe -m pip install --upgrade pip' command.\n"
     ]
    }
   ],
   "source": [
    "pip install pymongo"
   ]
  },
  {
   "cell_type": "code",
   "execution_count": 1,
   "metadata": {},
   "outputs": [],
   "source": [
    "import pymongo\n",
    "\n",
    "DEFAULT_CONNECTION_URL = \"mongodb://localhost:27017\"\n",
    "DB_NAME = \"iNEURON\""
   ]
  },
  {
   "cell_type": "code",
   "execution_count": 2,
   "metadata": {},
   "outputs": [
    {
     "name": "stdout",
     "output_type": "stream",
     "text": [
      "MongoClient(host=['localhost:27017'], document_class=dict, tz_aware=False, connect=True)\n"
     ]
    }
   ],
   "source": [
    "# creating a client\n",
    "\n",
    "client = pymongo.MongoClient(DEFAULT_CONNECTION_URL)\n",
    "print(client)"
   ]
  },
  {
   "cell_type": "code",
   "execution_count": 3,
   "metadata": {},
   "outputs": [
    {
     "data": {
      "text/plain": [
       "['admin', 'config', 'local']"
      ]
     },
     "execution_count": 3,
     "metadata": {},
     "output_type": "execute_result"
    }
   ],
   "source": [
    "client.list_database_names()"
   ]
  },
  {
   "cell_type": "code",
   "execution_count": 4,
   "metadata": {},
   "outputs": [],
   "source": [
    "# Check if the database with the given name exists or not\n",
    "\n",
    "def CheckExisitingDatabase(databaseName: str, client: str) -> str:\n",
    "    DBList = client.list_database_names()\n",
    "    if databaseName in DBList:\n",
    "        print(f\"{databaseName} exists as a database\")\n",
    "        return True\n",
    "    print(f\"{databaseName} does not exists as a database\")\n",
    "    return False\n"
   ]
  },
  {
   "cell_type": "code",
   "execution_count": 5,
   "metadata": {},
   "outputs": [
    {
     "name": "stdout",
     "output_type": "stream",
     "text": [
      "iNEURON does not exists as a database\n"
     ]
    },
    {
     "data": {
      "text/plain": [
       "False"
      ]
     },
     "execution_count": 5,
     "metadata": {},
     "output_type": "execute_result"
    }
   ],
   "source": [
    "# Checking for \"iNEURON\"\n",
    "\n",
    "CheckExisitingDatabase(databaseName = \"iNEURON\", client = client)"
   ]
  },
  {
   "cell_type": "code",
   "execution_count": 6,
   "metadata": {},
   "outputs": [
    {
     "name": "stdout",
     "output_type": "stream",
     "text": [
      "Database(MongoClient(host=['localhost:27017'], document_class=dict, tz_aware=False, connect=True), 'iNEURON')\n"
     ]
    }
   ],
   "source": [
    "#creating a database\n",
    "\n",
    "database = client[DB_NAME]\n",
    "print(database)"
   ]
  },
  {
   "cell_type": "code",
   "execution_count": 7,
   "metadata": {},
   "outputs": [
    {
     "name": "stdout",
     "output_type": "stream",
     "text": [
      "iNEURON does not exists as a database\n"
     ]
    },
    {
     "data": {
      "text/plain": [
       "False"
      ]
     },
     "execution_count": 7,
     "metadata": {},
     "output_type": "execute_result"
    }
   ],
   "source": [
    "# Checking for \"iNEURON\"\n",
    "\n",
    "CheckExisitingDatabase(databaseName = \"iNEURON\", client = client)"
   ]
  },
  {
   "cell_type": "code",
   "execution_count": 10,
   "metadata": {},
   "outputs": [
    {
     "name": "stdout",
     "output_type": "stream",
     "text": [
      "[]\n"
     ]
    }
   ],
   "source": [
    "print(database.list_collection_names())"
   ]
  },
  {
   "cell_type": "code",
   "execution_count": 11,
   "metadata": {},
   "outputs": [],
   "source": [
    "# Function to verify if a collection exists in the database or not\n",
    "\n",
    "def CheckExistingCollection(collectionName, DBName, db):\n",
    "    list_of_Collections = db.list_collection_names()\n",
    "    if collectionName in list_of_Collections:\n",
    "        print(f\"{collectionName} exists in the {DBName} database\")\n",
    "        return True\n",
    "    print(f\"{collectionName} does not exists in the {DBName} database\")\n",
    "    return False"
   ]
  },
  {
   "cell_type": "code",
   "execution_count": 12,
   "metadata": {},
   "outputs": [
    {
     "name": "stdout",
     "output_type": "stream",
     "text": [
      "iNeuronProducts does not exists in the iNEURON database\n"
     ]
    },
    {
     "data": {
      "text/plain": [
       "False"
      ]
     },
     "execution_count": 12,
     "metadata": {},
     "output_type": "execute_result"
    }
   ],
   "source": [
    "# Checking for Collection \"iNeuronProducts\"\n",
    "\n",
    "CheckExistingCollection(collectionName=\"iNeuronProducts\", DBName=\"iNEURON\", db=database)"
   ]
  },
  {
   "cell_type": "code",
   "execution_count": 13,
   "metadata": {},
   "outputs": [
    {
     "name": "stdout",
     "output_type": "stream",
     "text": [
      "Collection(Database(MongoClient(host=['localhost:27017'], document_class=dict, tz_aware=False, connect=True), 'iNEURON'), 'iNeuronProducts')\n"
     ]
    }
   ],
   "source": [
    "# Creating a Collection\n",
    "\n",
    "COLLECTION_NAME = 'iNeuronProducts'\n",
    "collection = database[COLLECTION_NAME]\n",
    "print(collection)"
   ]
  },
  {
   "cell_type": "code",
   "execution_count": 14,
   "metadata": {},
   "outputs": [
    {
     "name": "stdout",
     "output_type": "stream",
     "text": [
      "iNeuronProducts does not exists in the iNEURON database\n"
     ]
    },
    {
     "data": {
      "text/plain": [
       "False"
      ]
     },
     "execution_count": 14,
     "metadata": {},
     "output_type": "execute_result"
    }
   ],
   "source": [
    "# Checking for Collection \"iNeuronProducts\"\n",
    "\n",
    "CheckExistingCollection(collectionName=\"iNeuronProducts\", DBName=\"iNEURON\", db=database)"
   ]
  },
  {
   "cell_type": "code",
   "execution_count": 15,
   "metadata": {},
   "outputs": [
    {
     "name": "stdout",
     "output_type": "stream",
     "text": [
      "<pymongo.results.InsertManyResult object at 0x00000248F3DD60B0>\n"
     ]
    }
   ],
   "source": [
    "list_of_products = [\n",
    "   {\n",
    "       'companyName': 'iNeuron',\n",
    "       'products': ['Big Data', 'Data Science', 'Full Stack'],\n",
    "       'mentors': ['Shashank', 'Vishal']\n",
    "   },\n",
    "   {\n",
    "       'companyName': 'Microsoft',\n",
    "       'products': ['MS Office', 'MS Teams', 'Outlook'],\n",
    "       'mentors': ['Tanay', 'Satya']\n",
    "   }\n",
    "]\n",
    "\n",
    "# Inserting multiple records\n",
    "\n",
    "rec = collection.insert_many(list_of_products)\n",
    "print(rec)"
   ]
  },
  {
   "cell_type": "code",
   "execution_count": 16,
   "metadata": {},
   "outputs": [
    {
     "name": "stdout",
     "output_type": "stream",
     "text": [
      "iNeuronProducts exists in the iNEURON database\n"
     ]
    },
    {
     "data": {
      "text/plain": [
       "True"
      ]
     },
     "execution_count": 16,
     "metadata": {},
     "output_type": "execute_result"
    }
   ],
   "source": [
    "# Checking for Collection \"iNeuronProducts\"\n",
    "\n",
    "CheckExistingCollection(collectionName=\"iNeuronProducts\", DBName=\"iNEURON\", db=database)"
   ]
  },
  {
   "cell_type": "code",
   "execution_count": 20,
   "metadata": {},
   "outputs": [
    {
     "name": "stdout",
     "output_type": "stream",
     "text": [
      "Collection(Database(MongoClient(host=['localhost:27017'], document_class=dict, tz_aware=False, connect=True), 'iNEURON'), 'iNeuronMentors')\n"
     ]
    }
   ],
   "source": [
    "COLLECTION_NAME = \"iNeuronMentors\"\n",
    "mentors  = database[COLLECTION_NAME]\n",
    "print(mentors)"
   ]
  },
  {
   "cell_type": "code",
   "execution_count": 21,
   "metadata": {},
   "outputs": [
    {
     "data": {
      "text/plain": [
       "<pymongo.results.InsertManyResult at 0x248f3ddd480>"
      ]
     },
     "execution_count": 21,
     "metadata": {},
     "output_type": "execute_result"
    }
   ],
   "source": [
    "list_of_Mentors = [\n",
    "    {\n",
    "        'id': '1',\n",
    "        'Name': 'Shashank',\n",
    "        'Courses': ['Big Data', 'Data Science', 'Machine Learning']\n",
    "    },\n",
    "    {\n",
    "        'id': '2',\n",
    "        'Name': 'Vishal',\n",
    "        'Courses': ['Big Data', 'Data Science', 'Machine Learning']\n",
    "    },\n",
    "    {\n",
    "        'id': '3',\n",
    "        'Name': 'Tanay',\n",
    "        'Courses': ['MS Office', 'MS Teams', 'Outlook']\n",
    "    },\n",
    "    {\n",
    "        'id': '4',\n",
    "        'Name': 'Satya',\n",
    "        'Courses': ['MS Office', 'MS Teams', 'Outlook']\n",
    "    }\n",
    "]\n",
    "\n",
    "mentors.insert_many(list_of_Mentors)"
   ]
  },
  {
   "cell_type": "code",
   "execution_count": 27,
   "metadata": {},
   "outputs": [
    {
     "name": "stdout",
     "output_type": "stream",
     "text": [
      "{'_id': ObjectId('645f86ddc0100bb9d405bbd5'), 'id': '1', 'Name': 'Shashank', 'Courses': ['Big Data', 'Data Science', 'Machine Learning']}\n"
     ]
    }
   ],
   "source": [
    "find_first_record = mentors.find_one()\n",
    "print(find_first_record)"
   ]
  },
  {
   "cell_type": "code",
   "execution_count": 28,
   "metadata": {},
   "outputs": [
    {
     "name": "stdout",
     "output_type": "stream",
     "text": [
      "{'_id': ObjectId('645f86ddc0100bb9d405bbd5'), 'id': '1', 'Name': 'Shashank', 'Courses': ['Big Data', 'Data Science', 'Machine Learning']}\n",
      "{'_id': ObjectId('645f86ddc0100bb9d405bbd6'), 'id': '2', 'Name': 'Vishal', 'Courses': ['Big Data', 'Data Science', 'Machine Learning']}\n",
      "{'_id': ObjectId('645f86ddc0100bb9d405bbd7'), 'id': '3', 'Name': 'Tanay', 'Courses': ['MS Office', 'MS Teams', 'Outlook']}\n",
      "{'_id': ObjectId('645f86ddc0100bb9d405bbd8'), 'id': '4', 'Name': 'Satya', 'Courses': ['MS Office', 'MS Teams', 'Outlook']}\n"
     ]
    }
   ],
   "source": [
    "# Print all\n",
    "\n",
    "for i in mentors.find():\n",
    "    print(i)"
   ]
  },
  {
   "cell_type": "code",
   "execution_count": 29,
   "metadata": {},
   "outputs": [
    {
     "name": "stdout",
     "output_type": "stream",
     "text": [
      "0:{'_id': ObjectId('645f86ddc0100bb9d405bbd5'), 'id': '1', 'Name': 'Shashank', 'Courses': ['Big Data', 'Data Science', 'Machine Learning']}\n",
      "1:{'_id': ObjectId('645f86ddc0100bb9d405bbd6'), 'id': '2', 'Name': 'Vishal', 'Courses': ['Big Data', 'Data Science', 'Machine Learning']}\n",
      "2:{'_id': ObjectId('645f86ddc0100bb9d405bbd7'), 'id': '3', 'Name': 'Tanay', 'Courses': ['MS Office', 'MS Teams', 'Outlook']}\n",
      "3:{'_id': ObjectId('645f86ddc0100bb9d405bbd8'), 'id': '4', 'Name': 'Satya', 'Courses': ['MS Office', 'MS Teams', 'Outlook']}\n"
     ]
    }
   ],
   "source": [
    "all_Mentors = mentors.find()\n",
    "\n",
    "for idx, record in enumerate(all_Mentors):\n",
    "    print(f\"{idx}:{record}\")"
   ]
  },
  {
   "cell_type": "code",
   "execution_count": 31,
   "metadata": {},
   "outputs": [
    {
     "name": "stdout",
     "output_type": "stream",
     "text": [
      "{'_id': ObjectId('645f86ddc0100bb9d405bbd7'), 'id': '3', 'Name': 'Tanay', 'Courses': ['MS Office', 'MS Teams', 'Outlook']}\n"
     ]
    }
   ],
   "source": [
    "for i in mentors.find({'Name': 'Tanay'}):\n",
    "    print(i)"
   ]
  },
  {
   "cell_type": "code",
   "execution_count": 33,
   "metadata": {},
   "outputs": [
    {
     "name": "stdout",
     "output_type": "stream",
     "text": [
      "{'_id': ObjectId('645f86ddc0100bb9d405bbd6'), 'id': '2', 'Name': 'Vishal', 'Courses': ['Big Data', 'Data Science', 'Machine Learning']}\n",
      "{'_id': ObjectId('645f86ddc0100bb9d405bbd7'), 'id': '3', 'Name': 'Tanay', 'Courses': ['MS Office', 'MS Teams', 'Outlook']}\n",
      "{'_id': ObjectId('645f86ddc0100bb9d405bbd8'), 'id': '4', 'Name': 'Satya', 'Courses': ['MS Office', 'MS Teams', 'Outlook']}\n"
     ]
    }
   ],
   "source": [
    "# Find all the records where 'id' is greater than 1\n",
    "\n",
    "for i in mentors.find({'id': {'$gt': '1'}}):\n",
    "    print(i)"
   ]
  },
  {
   "cell_type": "code",
   "execution_count": 34,
   "metadata": {},
   "outputs": [
    {
     "name": "stdout",
     "output_type": "stream",
     "text": [
      "{'_id': ObjectId('645f86ddc0100bb9d405bbd5'), 'id': '1', 'Name': 'Shashank', 'Courses': ['Big Data', 'Data Science', 'Machine Learning']}\n",
      "{'_id': ObjectId('645f86ddc0100bb9d405bbd6'), 'id': '2', 'Name': 'Vishal', 'Courses': ['Big Data', 'Data Science', 'Machine Learning']}\n",
      "{'_id': ObjectId('645f86ddc0100bb9d405bbd7'), 'id': '3', 'Name': 'Tanay', 'Courses': ['MS Office', 'MS Teams', 'Outlook']}\n"
     ]
    }
   ],
   "source": [
    "# Find all the records where id less than 3\n",
    "\n",
    "for i in mentors.find({'id': {'$lt': '4'}}):\n",
    "    print(i)"
   ]
  },
  {
   "cell_type": "code",
   "execution_count": 35,
   "metadata": {},
   "outputs": [
    {
     "data": {
      "text/plain": [
       "<pymongo.results.InsertManyResult at 0x248f4df2170>"
      ]
     },
     "execution_count": 35,
     "metadata": {},
     "output_type": "execute_result"
    }
   ],
   "source": [
    "# insering random data to delete some data\n",
    "\n",
    "random_data = [\n",
    "    {'_id': '5', 'companyName': 'iNeuron', 'Faculty': 'XYZ'},\n",
    "    {'_id': '6', 'companyName': 'iNeuron', 'Faculty': 'ABC'},\n",
    "    {'_id': '7', 'companyName': 'iNeuron', 'Faculty': 'PQR'}\n",
    "]\n",
    "\n",
    "mentors.insert_many(random_data)"
   ]
  },
  {
   "cell_type": "code",
   "execution_count": 36,
   "metadata": {},
   "outputs": [
    {
     "data": {
      "text/plain": [
       "<pymongo.results.DeleteResult at 0x248f4fa8af0>"
      ]
     },
     "execution_count": 36,
     "metadata": {},
     "output_type": "execute_result"
    }
   ],
   "source": [
    "# Deleting one entry\n",
    "\n",
    "mentors.delete_one({'Faculty': 'XYZ'})"
   ]
  },
  {
   "cell_type": "code",
   "execution_count": 37,
   "metadata": {},
   "outputs": [
    {
     "data": {
      "text/plain": [
       "<pymongo.results.DeleteResult at 0x248f4f96aa0>"
      ]
     },
     "execution_count": 37,
     "metadata": {},
     "output_type": "execute_result"
    }
   ],
   "source": [
    "# Deleting many entries\n",
    "\n",
    "mentors.delete_many({'_id': {'$gt': '4'}})"
   ]
  },
  {
   "cell_type": "code",
   "execution_count": 38,
   "metadata": {},
   "outputs": [],
   "source": [
    "mentors.drop()"
   ]
  },
  {
   "cell_type": "code",
   "execution_count": null,
   "metadata": {},
   "outputs": [],
   "source": []
  }
 ],
 "metadata": {
  "kernelspec": {
   "display_name": "Python 3",
   "language": "python",
   "name": "python3"
  },
  "language_info": {
   "codemirror_mode": {
    "name": "ipython",
    "version": 3
   },
   "file_extension": ".py",
   "mimetype": "text/x-python",
   "name": "python",
   "nbconvert_exporter": "python",
   "pygments_lexer": "ipython3",
   "version": "3.10.2"
  },
  "orig_nbformat": 4
 },
 "nbformat": 4,
 "nbformat_minor": 2
}
